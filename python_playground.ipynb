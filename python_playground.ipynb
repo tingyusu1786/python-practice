{
 "cells": [
  {
   "cell_type": "markdown",
   "id": "0578e5ce",
   "metadata": {},
   "source": [
    "### 輸入輸出"
   ]
  },
  {
   "cell_type": "code",
   "execution_count": null,
   "id": "bf0a13eb",
   "metadata": {},
   "outputs": [],
   "source": [
    "import numpy as np\n",
    "import os\n",
    "import random"
   ]
  },
  {
   "cell_type": "code",
   "execution_count": null,
   "id": "df0ea5f6",
   "metadata": {},
   "outputs": [],
   "source": [
    "p1 = \"haha\"\n",
    "p2 = \"susun\"\n",
    "p3 = \"hehe\"\n",
    "\n",
    "print(p1, p3) # 預設會用空白分隔, 結束後會換行\n",
    "print(p1, p2, sep = \" \", end = \"<3\") # sep, end 運用 # 指定end如果沒有說要換行就不會自動換\n",
    "print(p3)"
   ]
  },
  {
   "cell_type": "code",
   "execution_count": null,
   "id": "17fabf6a",
   "metadata": {},
   "outputs": [],
   "source": [
    "#escape character\n",
    "\"\\n\" # 換行\n",
    "\"\\t\" # tab\n",
    "\"\\\"\" # when you want to type \"\n",
    "\"\\\\\" # when you want to type \\\n",
    "e1 = \"\\tcute :\\\") af\\nlike you\\\\me\"\n",
    "print(e1)"
   ]
  },
  {
   "cell_type": "code",
   "execution_count": null,
   "id": "abf8d0b8",
   "metadata": {},
   "outputs": [],
   "source": [
    "# input\n",
    "i1 = input(\"i1: \") # defaut type = string\n",
    "i2 = input(\"i2: \")\n",
    "print (i1 + i2)\n",
    "print (float(i1) + float(i2))"
   ]
  },
  {
   "cell_type": "markdown",
   "id": "5a84fc96",
   "metadata": {},
   "source": [
    "### 字串"
   ]
  },
  {
   "cell_type": "code",
   "execution_count": null,
   "id": "d2169e99",
   "metadata": {},
   "outputs": [],
   "source": [
    "#指定index\n",
    "# s[start:end:step（間隔）(可正可負)（負的話start就要比end右邊）]\n",
    "s1 = \"Suemurf\"\n",
    "print(\"1. \"+s1[2:4], \n",
    "      \"2. \"+s1[2::3],\n",
    "      \"3. \"+s1[:],\n",
    "      \"4. \"+s1[3:1:-1],\n",
    "      \"5. \"+s1[-2],\n",
    "      \"6. \"+s1[1:-3],\n",
    "      \"7. \"+s1[-7:-4:1],\n",
    "      sep = \"\\n\")"
   ]
  },
  {
   "cell_type": "code",
   "execution_count": null,
   "id": "419686a8",
   "metadata": {},
   "outputs": [],
   "source": [
    "#str.upper()\n",
    "#str.lower()\n",
    "print(str.upper(\"Suemurf is cute!\"), #全變大寫\n",
    "      str.lower(\"WalterSun81\"), #全變小寫\n",
    "      sep = \"\\n\") #數字或其他符號不會變"
   ]
  },
  {
   "cell_type": "code",
   "execution_count": null,
   "id": "75546007",
   "metadata": {},
   "outputs": [],
   "source": [
    "# 取代\n",
    "# str.replace(old, new)\n",
    "s2 = \"catsarecute\"\n",
    "s2.replace(\"cats\", \"kirinbeeru\")"
   ]
  },
  {
   "cell_type": "code",
   "execution_count": null,
   "id": "e84c6236",
   "metadata": {},
   "outputs": [],
   "source": [
    "#cast type practice\n",
    "a = str(input(\"a: \" ))\n",
    "b = str(input(\"b: \" ))\n",
    "print(a*int(b), b*int(a), sep = \"\\n\")"
   ]
  },
  {
   "cell_type": "code",
   "execution_count": null,
   "id": "1cc624e0",
   "metadata": {
    "scrolled": true
   },
   "outputs": [],
   "source": [
    "s = \"applepen\"\n",
    "print(s[0:-1])\n",
    "print(s[0:-1:2])\n",
    "print(s[::1])\n",
    "print(s[::2])\n",
    "print(s[4::-1])"
   ]
  },
  {
   "cell_type": "markdown",
   "id": "71bb4d92",
   "metadata": {},
   "source": [
    "### List操作"
   ]
  },
  {
   "cell_type": "code",
   "execution_count": null,
   "id": "e6ed4da4",
   "metadata": {},
   "outputs": [],
   "source": [
    "L = [\"a\", \"b\", \"c\", \"d\", \"e\", \"f\", \"g\"]\n",
    "L.append(\"g\") #在最後面加上\n",
    "L.remove(\"f\") #移除L裡面第一個\"f\"\n",
    "L.count(\"f\") #count \"f\"\n",
    "L.reverse() #顛倒順序\n",
    "L.insert(3, \"h\") #在第i項插入\"h\"\n",
    "L.pop() #取出最後一項並移除\n",
    "print(L) #會印出被拿掉的(=最後一項)"
   ]
  },
  {
   "cell_type": "code",
   "execution_count": null,
   "id": "497e7e11",
   "metadata": {},
   "outputs": [],
   "source": [
    "L1 = [\"a\", \"b\", \"c\", \"d\", \"e\", \"f\", \"h\"]\n",
    "L1.pop()\n",
    "print(L1)"
   ]
  },
  {
   "cell_type": "code",
   "execution_count": null,
   "id": "62c9ecec",
   "metadata": {},
   "outputs": [],
   "source": [
    "# practice\n",
    "def find_from_lst(lst1, lst2, s):\n",
    "    if (s in lst1) or (s in lst2):\n",
    "        print(True)\n",
    "    else:\n",
    "        print(False)\n",
    "lst1 = ['apple', 'pen']\n",
    "lst2 = ['pineapple', 'pen']\n",
    "s = 'apple'\n",
    "print(find_from_lst(lst1, lst2, s))"
   ]
  },
  {
   "cell_type": "code",
   "execution_count": null,
   "id": "a57f7098",
   "metadata": {},
   "outputs": [],
   "source": [
    "# practice\n",
    "lst1 = ['apple', 'pen']\n",
    "lst2 = ['pineapple', 'pen']\n",
    "s = 'pen'\n",
    "print(s in lst1 or s in lst2)"
   ]
  },
  {
   "cell_type": "markdown",
   "id": "67ee0864",
   "metadata": {},
   "source": [
    "### 數字"
   ]
  },
  {
   "cell_type": "code",
   "execution_count": null,
   "id": "99160841",
   "metadata": {},
   "outputs": [],
   "source": [
    "#basic calculation\n",
    "a = 10 + 3\n",
    "b = 10 - 3\n",
    "c = 10 * 3\n",
    "d = 10 / 3\n",
    "e = 10 // 3 #cut off decimal point\n",
    "f = 10 % 3 #show remainder\n",
    "g = 10 ** 3 #square\n",
    "print('\\n'.join([str(s) for s in [a, b, c, d, e, f, g]]))\n",
    "#for s in [a, b, c, d, e, f, g]:\n",
    "    #print(s)"
   ]
  },
  {
   "cell_type": "code",
   "execution_count": null,
   "id": "af0e44cd",
   "metadata": {},
   "outputs": [],
   "source": [
    "print(1.0-0.8)\n",
    "l = 3 + 2j\n",
    "m = 5 + 3j\n",
    "n = l + m\n",
    "print(n)\n",
    "\n",
    "np.float32(2)"
   ]
  },
  {
   "cell_type": "code",
   "execution_count": null,
   "id": "61d3a6d9",
   "metadata": {},
   "outputs": [],
   "source": [
    "A = 10\n",
    "A += 5 # -=, *=, %=, ...也都可\n",
    "#means A' = A + 5\n",
    "print(A)"
   ]
  },
  {
   "cell_type": "code",
   "execution_count": null,
   "id": "92fbe9db",
   "metadata": {},
   "outputs": [],
   "source": [
    "#可用於list\n",
    "aa = (1,2,3)\n",
    "bb = (4,5,6)\n",
    "aa += bb\n",
    "print(aa)"
   ]
  },
  {
   "cell_type": "markdown",
   "id": "779aced8",
   "metadata": {},
   "source": [
    "### 文字"
   ]
  },
  {
   "cell_type": "code",
   "execution_count": null,
   "id": "0692d852",
   "metadata": {},
   "outputs": [],
   "source": [
    "#conainer types\n",
    "#list, dict, tuple"
   ]
  },
  {
   "cell_type": "code",
   "execution_count": null,
   "id": "3c77b679",
   "metadata": {},
   "outputs": [],
   "source": [
    "#number types\n",
    "#int, float, bool\n",
    "\n",
    "x = 5\n",
    "print(\"x:\", type(x))\n",
    "\n",
    "y = 5.05\n",
    "print(\"y:\", type(y))\n",
    "\n",
    "x == y\n",
    "print(\"x == y:\", x == y, type(x == y))"
   ]
  },
  {
   "cell_type": "code",
   "execution_count": null,
   "id": "667c71dd",
   "metadata": {},
   "outputs": [],
   "source": [
    "#character types\n",
    "#str, chr\n",
    "\n",
    "str1 = \"I love \"\n",
    "str2 = \"daidai\"\n",
    "str12 = str1 + str2\n",
    "print(str12, \".\", type(str12))\n",
    "print(str2*3)\n",
    "print(len(str1 + str2))\n",
    "print(str1[4])"
   ]
  },
  {
   "cell_type": "code",
   "execution_count": null,
   "id": "bc28c046",
   "metadata": {},
   "outputs": [],
   "source": [
    "#chr字元\n",
    "#字元編碼（ASCII code）\n",
    "x1 = 66\n",
    "y1 = chr(x1)\n",
    "print(y1)\n",
    "\n",
    "x2 = 97\n",
    "y2 = chr(x2)\n",
    "print(y2)"
   ]
  },
  {
   "cell_type": "code",
   "execution_count": null,
   "id": "a70a835e",
   "metadata": {},
   "outputs": [],
   "source": [
    "#CASTING means type轉換\n",
    "\n",
    "xx = 5.97\n",
    "print(xx, type(xx))\n",
    "yy = int(xx)\n",
    "print(yy, type(yy))\n",
    "zz = float(yy)\n",
    "print(zz, type(zz))"
   ]
  },
  {
   "cell_type": "markdown",
   "id": "10186250",
   "metadata": {},
   "source": [
    "### print"
   ]
  },
  {
   "cell_type": "code",
   "execution_count": null,
   "id": "2d982b9c",
   "metadata": {
    "scrolled": true
   },
   "outputs": [],
   "source": [
    "p_text = \"this is amazing!\"\n",
    "print(p_text[2:7]) #slicing\n",
    "print(p_text.split(\" \"))\n",
    "print(p_text.split(\"s\"))"
   ]
  },
  {
   "cell_type": "code",
   "execution_count": null,
   "id": "7ef40275",
   "metadata": {},
   "outputs": [],
   "source": [
    "print(\"I\", \"love\", \"you\", sep = \" (kiss) \", end = \"!\\noxox\")"
   ]
  },
  {
   "cell_type": "code",
   "execution_count": null,
   "id": "b899b8e3",
   "metadata": {},
   "outputs": [],
   "source": [
    "isay = \"Hello, Good Morning! Baby yo man\"\n",
    "print(isay.split(\" \", 2)) #指定要切幾次\n",
    "print(isay.split(\" \", 6)[3]) #指定要印出第幾項"
   ]
  },
  {
   "cell_type": "markdown",
   "id": "b762836d",
   "metadata": {},
   "source": [
    "### 條件"
   ]
  },
  {
   "cell_type": "code",
   "execution_count": null,
   "id": "82c3c989",
   "metadata": {},
   "outputs": [],
   "source": [
    "#if, else, elif\n",
    "\n",
    "height = float(input(\"enter your height: \")) #input預設為str, 所以要先cast成int or float\n",
    "if height >= 180:\n",
    "    print(\"so tall!\")"
   ]
  },
  {
   "cell_type": "code",
   "execution_count": null,
   "id": "71509c45",
   "metadata": {},
   "outputs": [],
   "source": [
    "#if, else\n",
    "\n",
    "height = float(input(\"enter your height: \"))\n",
    "if height >= 180:\n",
    "    print(\"so tall!\")\n",
    "else: print(\"hmmm\")"
   ]
  },
  {
   "cell_type": "code",
   "execution_count": null,
   "id": "3f6dba17",
   "metadata": {},
   "outputs": [],
   "source": [
    "#if, elif, else\n",
    "\n",
    "score = int(input(\"your score: \"))\n",
    "if score >= 90:\n",
    "    print('Grade: A')\n",
    "elif score >= 80:\n",
    "    print('Grade: B')\n",
    "elif score >= 70:\n",
    "    print('Grade: C')\n",
    "elif score >= 60:\n",
    "    print('Grade: D')\n",
    "else:\n",
    "    print('Grade: F')"
   ]
  },
  {
   "cell_type": "code",
   "execution_count": null,
   "id": "048aae67",
   "metadata": {},
   "outputs": [],
   "source": [
    "#巢狀 if\n",
    "\n",
    "Age = input(\"your age:\")\n",
    "age = int(float(Age))\n",
    "if age > 22:\n",
    "    print(\"graduated!\")\n",
    "elif age > 18 and age <= 22:\n",
    "    if age == 22:\n",
    "        print(\"senior student\")\n",
    "    elif age == 21:\n",
    "        print(\"junior student\")\n",
    "    elif age == 20:\n",
    "        print(\"sophomore student\")\n",
    "    elif age == 19:\n",
    "        print(\"freshman student\")\n",
    "else:\n",
    "    print(\"little child\")\n",
    "    "
   ]
  },
  {
   "cell_type": "code",
   "execution_count": null,
   "id": "342a41a6",
   "metadata": {},
   "outputs": [],
   "source": [
    "#practice\n",
    "s = input()\n",
    "if len(s) >= 8:\n",
    "    print(\"Success\")\n",
    "else:\n",
    "    print(\"Fail\")"
   ]
  },
  {
   "cell_type": "code",
   "execution_count": null,
   "id": "45bc439f",
   "metadata": {},
   "outputs": [],
   "source": [
    "#practice 三角形\n",
    "def triangle(a, b, c):\n",
    "    if (a + b > c) and (a + c > b) and (b + c > a):\n",
    "        print(\"True\")\n",
    "    else:\n",
    "        print(\"False\")\n",
    "a = 1\n",
    "b = 2\n",
    "c = 3\n",
    "print(triangle(a, b, c))"
   ]
  },
  {
   "cell_type": "code",
   "execution_count": null,
   "id": "ea3c86cc",
   "metadata": {},
   "outputs": [],
   "source": [
    "#practice 直角三角形\n",
    "def right_triangle(a, b, c):\n",
    "    if (a**2 + b**2 == c**2) or (a**2 + c**2 == b**2) or (b**2 + c**2 == a **2):\n",
    "        print(\"True\")\n",
    "    else:\n",
    "        print(\"False\")\n",
    "a = int(input(\"a: \"))\n",
    "b = int(input(\"b: \"))\n",
    "c = int(input(\"c: \"))\n",
    "print(right_triangle(a, b, c))"
   ]
  },
  {
   "cell_type": "code",
   "execution_count": null,
   "id": "b6b22b11",
   "metadata": {},
   "outputs": [],
   "source": [
    "#float進位的問題\n",
    "b = 1.03\n",
    "a = 1.00\n",
    "x = 5\n",
    "if float(b - a) == 0.03:\n",
    "    x += 1\n",
    "print(x)"
   ]
  },
  {
   "cell_type": "markdown",
   "id": "b8dbe712",
   "metadata": {},
   "source": [
    "### 迴圈"
   ]
  },
  {
   "cell_type": "code",
   "execution_count": null,
   "id": "57681f40",
   "metadata": {},
   "outputs": [],
   "source": [
    "#while \n",
    "#while 條件:\n",
    "\n",
    "n1 = 10\n",
    "num1 = 1\n",
    "ttl = 0\n",
    "\n",
    "while num1 <= n1:\n",
    "    ttl += num1\n",
    "    num1 += 1\n",
    "print(ttl)"
   ]
  },
  {
   "cell_type": "code",
   "execution_count": null,
   "id": "c66acf67",
   "metadata": {},
   "outputs": [],
   "source": [
    "#for\n",
    "#for i(變數) in range(start, end, range):\n",
    "\n",
    "scores = [98, 95, 100, 89, 92]\n",
    "n = 0\n",
    "total = 0\n",
    "\n",
    "for i in range(len(scores)):  #從0開始\n",
    "    n += 1\n",
    "    total += scores[i]\n",
    "    \n",
    "aver = total/n\n",
    "print(aver)"
   ]
  },
  {
   "cell_type": "code",
   "execution_count": null,
   "id": "540e96fa",
   "metadata": {},
   "outputs": [],
   "source": [
    "#for\n",
    "#for i(變數) in list:\n",
    "\n",
    "scores = [98, 95, 100, 89, 92]\n",
    "n = 0\n",
    "total = 0\n",
    "\n",
    "for s in scores:\n",
    "    n += 1\n",
    "    total += s\n",
    "\n",
    "aver = total/n\n",
    "print(aver)"
   ]
  },
  {
   "cell_type": "code",
   "execution_count": null,
   "id": "dba69d42",
   "metadata": {},
   "outputs": [],
   "source": [
    "#practice 因數\n",
    "#輸入一個正整數 找出它所有因數\n",
    "\n",
    "def factor(n):\n",
    "    #if not isinstance(n, int):\n",
    "        #return \n",
    "    try:                 #try and catch\n",
    "        n = int(n)\n",
    "    except:\n",
    "        print(\"error\")\n",
    "        return\n",
    "    factors = []\n",
    "    for i in range(1,n+1):\n",
    "        f = n % i\n",
    "        if f == 0:\n",
    "            factors += [i]\n",
    "            print(i)\n",
    "    return \"factors are shown above\"\n",
    "\n",
    "n = input(\"a number: \")\n",
    "print(factor(n))"
   ]
  },
  {
   "cell_type": "code",
   "execution_count": null,
   "id": "035c8de5",
   "metadata": {},
   "outputs": [],
   "source": [
    "#practice 完全平方數\n",
    "#找出比n小的完全平方數\n",
    "\n",
    "def square_num(n):\n",
    "    for i in range(1, n):\n",
    "        if i**2 < n:\n",
    "            print(i**2)\n",
    "    return(\"square numbers above\")\n",
    "\n",
    "n = int(input())\n",
    "print(square_num(n))"
   ]
  },
  {
   "cell_type": "code",
   "execution_count": null,
   "id": "566a193b",
   "metadata": {},
   "outputs": [],
   "source": [
    "#把string裡每個character分開\n",
    "#list(str)\n",
    "\n",
    "def split(word):\n",
    "    return list(word)\n",
    "\n",
    "word = 'geeks'\n",
    "print(split(word))"
   ]
  },
  {
   "cell_type": "code",
   "execution_count": null,
   "id": "920b67f9",
   "metadata": {},
   "outputs": [],
   "source": [
    "#practice\n",
    "#找出某字s中母音種類數量（大小寫分開算）\n",
    "\n",
    "def vowel_count(s):\n",
    "    count = 0\n",
    "    vowel = \"AEIOUaeiou\"\n",
    "    v_l = list(vowel)\n",
    "    s_l = list(s)\n",
    "    for i in v_l:\n",
    "        if i in s_l:\n",
    "            count += 1\n",
    "    return count\n",
    "\n",
    "print(vowel_count(\"Uuemurf\"))"
   ]
  },
  {
   "cell_type": "code",
   "execution_count": null,
   "id": "deca2769",
   "metadata": {},
   "outputs": [],
   "source": [
    "#reference answer\n",
    "s = \"Shao-Hua\"\n",
    "def vowel_count(s):\n",
    "    count = 0\n",
    "    vowel = 'AEIOUaeiou'\n",
    "    for v in vowel: #會自動取str裡每個字元\n",
    "        if v in s:\n",
    "            count += 1\n",
    "    print(count)\n",
    "\n",
    "print(vowel_count(s))"
   ]
  },
  {
   "cell_type": "code",
   "execution_count": null,
   "id": "c78a6421",
   "metadata": {},
   "outputs": [],
   "source": [
    "string_name = \"geeksforgeeks\"\n",
    "for i in string_name[0:8:1]: \n",
    "    print(i, end =' ')"
   ]
  },
  {
   "cell_type": "code",
   "execution_count": null,
   "id": "7c155c70",
   "metadata": {},
   "outputs": [],
   "source": [
    "#practice\n",
    "#輸出為輸入數字的各個位數總和 ex. input = 123, output = 6\n",
    "\n",
    "def num_sum(n):\n",
    "    try:\n",
    "        ns = 0\n",
    "        for i in n:\n",
    "            ns += int(i)\n",
    "        return ns\n",
    "    except:\n",
    "        return \"wrong format\"\n",
    "\n",
    "n = input(\"input: \")\n",
    "print(num_sum(n))"
   ]
  },
  {
   "cell_type": "code",
   "execution_count": null,
   "id": "0c6b4ee3",
   "metadata": {},
   "outputs": [],
   "source": [
    "#practice\n",
    "#巢狀迴圈\n",
    "\n",
    "def pyramid(n):\n",
    "    for i in range(n):\n",
    "        print(\" \" * (n - i - 1), end = \"\")\n",
    "        for j in range(i, -1, -1):\n",
    "            print(j, end = \"\")\n",
    "        for j in range(1, i+1):\n",
    "                print(j, end = \"\")\n",
    "        print(\" \" * (n-i))\n",
    "        \n",
    "n = int(input())\n",
    "pyramid(n)"
   ]
  },
  {
   "cell_type": "code",
   "execution_count": null,
   "id": "1aefe752",
   "metadata": {},
   "outputs": [],
   "source": [
    "#practice「*」三角形\n",
    "#長 = l, 寬 = w\n",
    "#自己直覺的做法\n",
    "l = int(input(\"l = \"))\n",
    "w = int(input(\"w = \"))\n",
    "\n",
    "def rectangle_star(l, w):\n",
    "    for i in range(1, l+1):\n",
    "        a = \"*\" * w\n",
    "        print(a)\n",
    "\n",
    "print(rectangle_star(l, w))"
   ]
  },
  {
   "cell_type": "code",
   "execution_count": null,
   "id": "da8727e1",
   "metadata": {},
   "outputs": [],
   "source": [
    "#practice「*」三角形\n",
    "#長 = l, 寬 = w\n",
    "#用巢狀迴圈\n",
    "\n",
    "def rec_star(l, w):\n",
    "    for i in range(w):\n",
    "        for j in range(l):\n",
    "            print(\"*\", end = \"\")\n",
    "        print()\n",
    "        \n",
    "(l, w) = (3, 2)\n",
    "print(rec_star(l, w))"
   ]
  },
  {
   "cell_type": "code",
   "execution_count": null,
   "id": "6889bc13",
   "metadata": {},
   "outputs": [],
   "source": [
    "#practice\n",
    "#l*w = 5*3\n",
    "#+-+-+\n",
    "#-+-+-\n",
    "#+-+-+\n",
    "def add_sub_rectangle(l, w):\n",
    "    ### l 和 w 的型態為整數(int)\n",
    "    ### 請在下面開始你的程式\n",
    "    for i in range(1, w+1):\n",
    "        if i % 2 == 1:\n",
    "            for j in range(1, l+1):\n",
    "                if j % 2 == 1:\n",
    "                    print(\"+\", end = \"\")\n",
    "                else:\n",
    "                    print(\"-\", end = \"\")\n",
    "        else:\n",
    "            for j in range(1, l+1):\n",
    "                if j % 2 == 1:\n",
    "                    print(\"-\", end = \"\")\n",
    "                else:\n",
    "                    print(\"+\", end = \"\")\n",
    "        print()\n",
    "l = 8\n",
    "w = 3\n",
    "print(add_sub_rectangle(l, w))"
   ]
  },
  {
   "cell_type": "code",
   "execution_count": null,
   "id": "bb74eacd",
   "metadata": {},
   "outputs": [],
   "source": [
    "lst = [int(aa) for aa in input().split()]\n",
    "print(lst)"
   ]
  },
  {
   "cell_type": "code",
   "execution_count": null,
   "id": "5372197e",
   "metadata": {},
   "outputs": [],
   "source": [
    "lllll = [8,2,1,4,6]\n",
    "lllll.sort(reverse = True)\n",
    "print(lllll)"
   ]
  },
  {
   "cell_type": "code",
   "execution_count": null,
   "id": "fdca2cb4",
   "metadata": {},
   "outputs": [],
   "source": [
    "#practice\n",
    "#輸入一串int的list, 輸出相鄰乘積的最大值\n",
    "#ex. input = [2,8,6,1], output = 48\n",
    "\n",
    "def max_mul(l):\n",
    "    ### l 的型態為串列(list)\n",
    "    list_mul = []\n",
    "    for i in range(len(l) - 1):\n",
    "        mul = l[i] * l[i + 1]\n",
    "        list_mul.append(mul)\n",
    "    #list_mul.sort(reverse = True)\n",
    "    #your_ans = list_mul[0]\n",
    "    your_ans = max(list_mul)\n",
    "    return your_ans\n",
    "\n",
    "list_prac = [1, 5, 8, 3]\n",
    "print(max_mul(list_prac))"
   ]
  },
  {
   "cell_type": "code",
   "execution_count": null,
   "id": "b8b5b553",
   "metadata": {},
   "outputs": [],
   "source": [
    "#practice\n",
    "#找出list中長度最長的str(一樣長就傳index小的)\n",
    "\n",
    "def longest_str(l):\n",
    "    ### l 的型態為串列(list)\n",
    "    ### 請在下面開始你的程式\n",
    "    l_len = []\n",
    "    l_max = []\n",
    "    for i in l:\n",
    "        a = len(i)\n",
    "        l_len.append(a)\n",
    "    for i in l:\n",
    "        if len(i) == max(l_len):\n",
    "            l_max.append(i)\n",
    "    your_ans = l_max[0]\n",
    "    return your_ans\n",
    "\n",
    "longest = [\"happy\", \"ya\", \"hellonnnfnnn\", \"python098poi\"]\n",
    "print(longest_str(longest))"
   ]
  },
  {
   "cell_type": "code",
   "execution_count": null,
   "id": "01b5d666",
   "metadata": {},
   "outputs": [],
   "source": [
    "#practice\n",
    "#list裡值是否>=門檻\n",
    "def threshold(l, t):\n",
    "    ### l 的型態為串列(list)\n",
    "    ### t 的型態為整數(int)\n",
    "    ### 請在下面開始你的程式\n",
    "    new_l = []\n",
    "    for i in l:\n",
    "        if i >= t:\n",
    "            new_l.append(True)\n",
    "        else:\n",
    "            new_l.append(False)\n",
    "    your_ans = new_l\n",
    "    return your_ans\n",
    "\n",
    "l = [20, 40, 90, 120, 60]\n",
    "t = int(60)\n",
    "print(threshold(l, t))"
   ]
  },
  {
   "cell_type": "code",
   "execution_count": null,
   "id": "a2410f4e",
   "metadata": {},
   "outputs": [],
   "source": [
    "#practice\n",
    "#GCD using LOOP\n",
    "def compute_gcd(x,y):\n",
    "    if x >= y:\n",
    "        small = y\n",
    "    else:\n",
    "        small = x\n",
    "    for i in range(1, small + 1):\n",
    "        if ((x % i == 0) and (y % i == 0)):\n",
    "            result = i\n",
    "    return result\n",
    "\n",
    "def gcd(l1, l2):\n",
    "    your_ans = []\n",
    "    ### l1 和 l2 的型態為串列(list)\n",
    "    ### 請在下面開始你的程式\n",
    "    for i in range(len(l1)):\n",
    "        a = compute_gcd(l1[i], l2[i])\n",
    "        your_ans.append(a)\n",
    "    return your_ans\n",
    "\n",
    "ll1 = [2, 8, 10]\n",
    "ll2 = [4, 40, 3]\n",
    "print(gcd(ll1, ll2))"
   ]
  },
  {
   "cell_type": "code",
   "execution_count": null,
   "id": "11e06b71",
   "metadata": {},
   "outputs": [],
   "source": [
    "#GCD using LOOP\n",
    "def compute_gcd(x,y):\n",
    "    if x >= y:\n",
    "        small = y\n",
    "    else:\n",
    "        small = x\n",
    "    for i in range(1, small + 1):\n",
    "        if ((x % i == 0) and (y % i == 0)):\n",
    "            result = i\n",
    "    return result\n",
    "print(compute_gcd(60, 30))"
   ]
  },
  {
   "cell_type": "code",
   "execution_count": null,
   "id": "f2aa85e6",
   "metadata": {},
   "outputs": [],
   "source": [
    "#GCD using RECURSION\n",
    "def hcfnaive(a,b):\n",
    "    if(b==0):\n",
    "        return a\n",
    "    else:\n",
    "        return hcfnaive(b,a%b)\n",
    "  \n",
    "print(\"The gcd of 60 and 48 is : \",end=\"\")\n",
    "print (hcfnaive(60,48))"
   ]
  },
  {
   "cell_type": "markdown",
   "id": "2d926b67",
   "metadata": {},
   "source": [
    "### 排序"
   ]
  },
  {
   "cell_type": "code",
   "execution_count": null,
   "id": "da053de5",
   "metadata": {},
   "outputs": [],
   "source": [
    "#practice\n",
    "#把list內數字依照各個位數總和大小由小排到大\n",
    "\n",
    "def num_total_sort(n):     # ex: 當 n = 123 時，num_total_sort 需回傳 6\n",
    "    # n 的型態為整數(int)\n",
    "    total_sum = 0\n",
    "    a = str(n)\n",
    "    for i in a:\n",
    "        total_sum += int(i)\n",
    "    return total_sum\n",
    "\n",
    "def my_sort(lst):\n",
    "    return sorted(lst, key=num_total_sort) #sorted(list, key = 用什麼排序(不寫的話預設數字由小排到大))\n",
    "\n",
    "my_sort([39,32,15])"
   ]
  },
  {
   "cell_type": "code",
   "execution_count": null,
   "id": "213db0b2",
   "metadata": {},
   "outputs": [],
   "source": [
    "#practice\n",
    "#按照反轉後的字母順序排序（result印出不反轉）\n",
    "\n",
    "def reverse_str_sort(s):     #此 function 需要回傳字串 s 反轉後的結果 ex: 當 s = 'abc' 時，reverse_str_sort 需回傳 'cba'\n",
    "    ### s 的型態為字串(str)\n",
    "    reverse_str = s[::-1]\n",
    "    return reverse_str\n",
    "\n",
    "def my_sort(lst):\n",
    "    return sorted(lst, key=reverse_str_sort)\n",
    "    # 為了依照字串反轉的規則，我們需要實作 reverse_str_sort 這個 function\n",
    "\n",
    "my_sort([\"btc\", \"apple\", \"python\"])"
   ]
  },
  {
   "cell_type": "markdown",
   "id": "88bb6304",
   "metadata": {},
   "source": [
    "### Recursion 遞迴"
   ]
  },
  {
   "cell_type": "code",
   "execution_count": null,
   "id": "47cf9408",
   "metadata": {},
   "outputs": [],
   "source": [
    "#階乘\n",
    "\n",
    "def factorial(n):\n",
    "    # n 的型態為整數(int)\n",
    "    if n == 0 or n == 1:\n",
    "        return 1\n",
    "    else:\n",
    "        return n * factorial(n-1)\n",
    "    \n",
    "factorial(5)"
   ]
  },
  {
   "cell_type": "code",
   "execution_count": null,
   "id": "ca0135e4",
   "metadata": {},
   "outputs": [],
   "source": [
    "#practice\n",
    "#已知 f(0)=0, f(1)=1, f(2)=2, f(n)=f(n-1)+f(n-2)+f(n-3)\n",
    "#輸入n, 輸出f(n)\n",
    "\n",
    "def fibo(n):\n",
    "    ### n 的型態為整數(int)\n",
    "    if n == 0:\n",
    "        return 0\n",
    "    elif n == 1:\n",
    "        return 1\n",
    "    elif n == 2:\n",
    "        return 2\n",
    "    else:\n",
    "        return fibo(n - 1) + fibo(n - 2) + fibo (n - 3)\n",
    "fibo(8)"
   ]
  },
  {
   "cell_type": "markdown",
   "id": "972be029",
   "metadata": {},
   "source": [
    "### Dictionary 字典"
   ]
  },
  {
   "cell_type": "code",
   "execution_count": null,
   "id": "650f49cb",
   "metadata": {},
   "outputs": [],
   "source": [
    "# 新增字典\n",
    "# way 1\n",
    "dict_1 = {key : value}\n",
    "# way_2\n",
    "dict_1 = dict(key : value)\n",
    "\n",
    "# 新增字key\n",
    "# dict_name[key] = value\n",
    "dict_1[\"greetings\"] = \"Hello!\"\n",
    "original_dict.update(new_dict) #一次新增多筆\n",
    "\n",
    "# 刪除一筆key\n",
    "del dict_name['key']\n",
    "\n",
    "#\n",
    "dict_name.keys()\n",
    "dict_name.values()\n",
    "dict_name.items()\n",
    "\n",
    "for key in dict:\n",
    "    print(key)\n",
    "    \n",
    "for key, value in dict.items():\n",
    "    print(key, value)\n",
    "\n",
    "print(dict_1.get(\"cast\")) #如果key不存在的話，程式會回傳None，不會出現錯誤訊息"
   ]
  },
  {
   "cell_type": "code",
   "execution_count": null,
   "id": "ef08268a",
   "metadata": {},
   "outputs": [],
   "source": [
    "me = {\"name\" : \"Suemurf\", \n",
    "     \"birth_year\" : 1994,\n",
    "     \"horoscope\" : \"Aquarius\",\n",
    "     \"husband\" : \"Sunmurf\",\n",
    "     101 : \"hi\",\n",
    "     \"siblings\": [\"Kevin\", \"Eric\", \"Louis\"]} #type可以是各種\n",
    "print(me)\n",
    "print(me[\"name\"])\n",
    "print(me.get(\"name\", \"not found\")) #如果找不到的話會印出\"not found\"\n",
    "\n",
    "for i, j in me.items():\n",
    "    print(i, j, end = \", \")"
   ]
  },
  {
   "cell_type": "code",
   "execution_count": null,
   "id": "d2f24da3",
   "metadata": {},
   "outputs": [],
   "source": [
    "def square_dict(n):\n",
    "    ### n 的型態為整數(int)\n",
    "    ### 請在下面開始你的程式\n",
    "    your_dict = {i : i ** 2 for i in range(1, n + 1)}\n",
    "    return your_dict\n",
    "print(square_dict(5))"
   ]
  },
  {
   "cell_type": "code",
   "execution_count": null,
   "id": "c239a3f1",
   "metadata": {},
   "outputs": [],
   "source": [
    "#practice\n",
    "#key=字元,value=出現次數\n",
    "def str_dict(s):\n",
    "    your_dict = {i: s.count(i) for i in s}\n",
    "    if \" \" in your_dict:\n",
    "        del your_dict[\" \"]\n",
    "    return your_dict\n",
    "\n",
    "s = \"good night\"\n",
    "print(str_dict(s))"
   ]
  },
  {
   "cell_type": "markdown",
   "id": "7f3da9cb",
   "metadata": {},
   "source": [
    "### 檔案處理"
   ]
  },
  {
   "cell_type": "code",
   "execution_count": null,
   "id": "5d9ca12a",
   "metadata": {},
   "outputs": [],
   "source": [
    "f = open(file_name, mode) #f可以是任意, file_name跟mode都要是str  #mode = r by default\n",
    "# mode = r(read), w(write從頭寫入), a(append), r+(for both read & write)\n",
    "# mode = r, 如果找不到檔案會出現 FileNotFoundError\n",
    "# mode = w, 如果找不到檔案會直接新增檔案\n",
    "f.readline() #這樣寫只會讀一行\n",
    "f.readline() #寫兩次就讀兩行\n",
    "f.close()"
   ]
  },
  {
   "cell_type": "code",
   "execution_count": null,
   "id": "de017e0d",
   "metadata": {},
   "outputs": [],
   "source": [
    "f = open(\"grade.txt\", \"r\")\n",
    "line = f.readline() #readline如果不print就只會read進來\n",
    "print(line)\n",
    "f.close"
   ]
  },
  {
   "cell_type": "code",
   "execution_count": null,
   "id": "e3adce16",
   "metadata": {},
   "outputs": [],
   "source": [
    "#讀檔\n",
    "f = open(\"grade.txt\", \"r\")\n",
    "for line in f:\n",
    "    print(line, end = \"\")\n",
    "f.close()"
   ]
  },
  {
   "cell_type": "code",
   "execution_count": null,
   "id": "0790f91c",
   "metadata": {},
   "outputs": [],
   "source": [
    "#寫檔\n",
    "f = open(\"tmp.txt\", \"w\") #都要變成str\n",
    "f.write(\"hello\\n\") #第一種方法\n",
    "print(\"how are you?\", file = f) #第二種方法\n",
    "f.close()"
   ]
  },
  {
   "cell_type": "code",
   "execution_count": null,
   "id": "3be81956",
   "metadata": {},
   "outputs": [],
   "source": [
    "#stript剪掉前後\n",
    "strip_test = \"123abcrunoob321\"\n",
    "print (strip_test.strip( '213ba' ))"
   ]
  },
  {
   "cell_type": "code",
   "execution_count": null,
   "id": "837ab0d9",
   "metadata": {},
   "outputs": [],
   "source": [
    "#open可指定的編碼們\n",
    "open(file,\n",
    "     mode=\"r\",\n",
    "     buffering=None,\n",
    "     encoding=None,\n",
    "     errors=None,\n",
    "     newline=None,\n",
    "     closefd=True)"
   ]
  },
  {
   "cell_type": "code",
   "execution_count": null,
   "id": "90ba0d70",
   "metadata": {},
   "outputs": [],
   "source": [
    "#example\n",
    "f = open(\"pokemon.txt\", \"r\", encoding = \"utf-8\") #encoding = 因為有中文字\n",
    "poke_list = {}\n",
    "for line in f:\n",
    "    line = line.strip()\n",
    "    line_split = line.split(\"\\t\")\n",
    "    poke_list[line_split[0]] = {\"en\": line_split[2], \"zh\": line_split[1]} #在poke_list這個字典裡新增小字典\n",
    "\n",
    "language = input(\"input your language(zh/en): \")\n",
    "if language == \"en\":\n",
    "    s = input(\"Please input pokemon id: \")\n",
    "    print(\"the pokemon is: \", poke_list[s][\"en\"])\n",
    "elif language == \"zh\":\n",
    "    s = input(\"輸入poke編號: \")\n",
    "    print(\"你的寶可是:\", poke_list[s][\"zh\"])"
   ]
  },
  {
   "cell_type": "code",
   "execution_count": null,
   "id": "d3af6bf4",
   "metadata": {},
   "outputs": [],
   "source": [
    "#practice\n",
    "#讀進\"grade.txt\", 輸出ans_dict{座號: 分數}\n",
    "\n",
    "#產生檔案\"grade.txt\"\n",
    "g_t = open(\"grade.txt\", \"w\")\n",
    "for i in range(1, 21):\n",
    "    print(i, \"\\t\", random.randint(40, 101), sep = \"\", file = g_t)\n",
    "g_t.close()\n",
    "\n",
    "def grade():\n",
    "    ### 開啟 grade.txt 檔\n",
    "    ### 依照題目要求產生一個字典，並將此字典回傳\n",
    "    f = open(\"grade.txt\", \"r\")\n",
    "    ans_dict = {}\n",
    "    for line in f:\n",
    "        line = line.strip()\n",
    "        line_split = line.split(\"\\t\")\n",
    "        ans_dict[line_split[0]] = line_split[1]\n",
    "    f.close()\n",
    "    return ans_dict\n",
    "print(grade())"
   ]
  },
  {
   "cell_type": "code",
   "execution_count": null,
   "id": "dc9c9f3e",
   "metadata": {},
   "outputs": [],
   "source": [
    "#practice\n",
    "#給一個pokemon.txt = #001\\t中文名\\tEngName\n",
    "#輸入#001～#151, 印出[中文名, EngName]\n",
    "\n",
    "def pokemon(s):\n",
    "    ans_list = {}\n",
    "    f = open(\"pokemon.txt\", \"r\", encoding = \"utf-8\")\n",
    "    for line in f:\n",
    "        line = line.strip()\n",
    "        line_split = line.split(\"\\t\")\n",
    "        ans_list[line_split[0]] = [line_split[1], line_split[2]]\n",
    "    f.close()\n",
    "    return ans_list[s]\n",
    "\n",
    "s = input(\"please input #001~#151: \")\n",
    "print(pokemon(s))"
   ]
  },
  {
   "cell_type": "code",
   "execution_count": null,
   "id": "eaf3d39c",
   "metadata": {},
   "outputs": [],
   "source": [
    "#產生隨機數字\n",
    "randomlist = random.sample(range(10, 30), 5)\n",
    "print(randomlist)"
   ]
  },
  {
   "cell_type": "code",
   "execution_count": null,
   "id": "02a186f2",
   "metadata": {},
   "outputs": [],
   "source": [
    "#刪除檔案\n",
    "os.remove(\"flush.txt\")"
   ]
  },
  {
   "cell_type": "markdown",
   "id": "d28cdb15",
   "metadata": {},
   "source": [
    "### 例外處理"
   ]
  },
  {
   "cell_type": "code",
   "execution_count": null,
   "id": "c7c23f6d",
   "metadata": {},
   "outputs": [],
   "source": [
    "try: #可以把寫好的正常的整段包進try裡面\n",
    "    f = open(\"data.txt\")\n",
    "    for line in f:\n",
    "        a = int(line)\n",
    "        print(365/a)\n",
    "except FileNotFoundError: #對一些電腦已知的error可以指定要做什麼事\n",
    "    print(\"File not found\")\n",
    "except NameError:\n",
    "    print(\"File contains no int\")\n",
    "except ZeroDivisionError: \n",
    "    print (\"File contains 0\")\n",
    "except:\n",
    "    print(\"Whatever, Error!\")\n",
    "    "
   ]
  },
  {
   "cell_type": "markdown",
   "id": "e961ed7f",
   "metadata": {},
   "source": [
    "### 模組 module"
   ]
  },
  {
   "cell_type": "code",
   "execution_count": null,
   "id": "9658236a",
   "metadata": {},
   "outputs": [],
   "source": [
    "#常用\n",
    "math\n",
    "os\n",
    "sys\n",
    "random\n",
    "datetime\n",
    "statistics\n",
    "requests\n",
    "BeautifulSoup"
   ]
  },
  {
   "cell_type": "markdown",
   "id": "1c6f19a5",
   "metadata": {},
   "source": [
    "### 綜合練習"
   ]
  },
  {
   "cell_type": "code",
   "execution_count": null,
   "id": "0c33c578",
   "metadata": {},
   "outputs": [],
   "source": [
    "#three number sum\n",
    "#給定一個由小至大，長度大於3的list，若其中3個數字總和為0，則按照index大小印出\n",
    "\n",
    "def ThreeSum(lst):\n",
    "    for i in range(len(lst)):\n",
    "        a = lst[i]\n",
    "        for j in range(i + 1, len(lst)):\n",
    "            b = lst[j]\n",
    "            for k in range(j + 1, len(lst)):\n",
    "                c = lst[k]\n",
    "                if a + b + c == 0:\n",
    "                    print(a, b, c)\n",
    "    \n",
    "t_n_s = [-5, -3, 1, 2, 4, 8]\n",
    "print(ThreeSum(t_n_s))"
   ]
  },
  {
   "cell_type": "code",
   "execution_count": null,
   "id": "f6e3d0c5",
   "metadata": {},
   "outputs": [],
   "source": [
    "#一奇多偶\n",
    "#在一個list中，只有其中一個數字出奇數次，找出並印出該數字\n",
    "\n",
    "def OddTimes(lst):\n",
    "    for i in lst:\n",
    "        a = lst.count(i)\n",
    "        if a % 2 != 0:\n",
    "            return i\n",
    "    \n",
    "o_t = [1,2,3,2,1,1,1,3,3,3,3]\n",
    "print(OddTimes(o_t))"
   ]
  },
  {
   "cell_type": "code",
   "execution_count": null,
   "id": "48014de0",
   "metadata": {},
   "outputs": [],
   "source": [
    "#數字母\n",
    "#輸入str \"happy\", 輸出 \"a1h1p2y1\"(照字母index排)\n",
    "\n",
    "def LetterCount(s):\n",
    "    l_c = {}\n",
    "    for i in s:\n",
    "        l_c[i] = int(s.count(i))\n",
    "    s_l_c = dict(sorted(l_c.items(), key = lambda kv:(kv[0], kv[1])))\n",
    "    #print(s_l_c)\n",
    "    for i, j in s_l_c.items():\n",
    "        print(i, j, sep = \"\", end = \"\")\n",
    "\n",
    "s = \"Happy\"\n",
    "s = s.lower()\n",
    "LetterCount(s)"
   ]
  },
  {
   "cell_type": "code",
   "execution_count": null,
   "id": "828b5f22",
   "metadata": {},
   "outputs": [],
   "source": [
    "def LetterCount(s):\n",
    "    l_c = {}\n",
    "    for i in s:\n",
    "        l_c[i] = int(s.count(i))\n",
    "    s_l_c = sorted(l_c.items(), key = lambda kv:(kv[0], kv[1]))\n",
    "    for ele in s_l_c:\n",
    "        print(ele[0], ele[1], sep = \"\", end = \"\")\n",
    "\n",
    "s = \"bananA\"\n",
    "s = s.lower()\n",
    "LetterCount(s)"
   ]
  },
  {
   "cell_type": "code",
   "execution_count": null,
   "id": "9e2219c9",
   "metadata": {},
   "outputs": [],
   "source": [
    "#括號合法與否\n",
    "\n",
    "def ValidParentheses(s):\n",
    "    ### s 的型態為字串(str)\n",
    "    ### 請在下面開始你的程式\n",
    "    a = 0\n",
    "#     if (s.count(\"(\") != s.count(\")\")) or (s[0] == \")\") or (s[len(s) -1] == \"(\"):\n",
    "#         return False                \n",
    "    for i in s:\n",
    "        if i == \"(\":\n",
    "            a += 1\n",
    "        elif i == \")\":\n",
    "            a -= 1\n",
    "        if a < 0:\n",
    "            return False\n",
    "    if a != 0:\n",
    "        return False\n",
    "    return True\n",
    "            \n",
    "s = \"(())()\"\n",
    "print(ValidParentheses(s))"
   ]
  },
  {
   "cell_type": "code",
   "execution_count": null,
   "id": "aabfd35f",
   "metadata": {},
   "outputs": [],
   "source": [
    "#不用遞迴寫出費氏數列\n",
    "#f(0) = 0, f(1) = 1, f(n) = f(n-1) + f(n-2)\n",
    "# n = 3, your_ans = [0, 1, 1, 2]\n",
    "\n",
    "def fibonacci_without_recursion(n):\n",
    "    ### n 的型態為整數(int)\n",
    "    ### 回傳值 your_ans 的型態為串列(list)\n",
    "    ### 請在下面開始你的程式\n",
    "    n0 = 0\n",
    "    n1 = 1\n",
    "    your_ans =[]\n",
    "    for i in range(0, n+1):\n",
    "        if i == 0:\n",
    "            your_ans.append(n0)\n",
    "        elif i == 1:\n",
    "            your_ans.append(n1)\n",
    "        else:\n",
    "            nth = n0 + n1\n",
    "            your_ans.append(nth)\n",
    "            n0 = n1\n",
    "            n1 = nth\n",
    "    return your_ans\n",
    "\n",
    "n = 5\n",
    "print(fibonacci_without_recursion(n))"
   ]
  },
  {
   "cell_type": "code",
   "execution_count": null,
   "id": "a78ee830",
   "metadata": {},
   "outputs": [],
   "source": [
    "#寶呆寫的 ＃好厲害嗚嗚\n",
    "def F(n):\n",
    "    a = [0,1]\n",
    "    for i in range(2, n+1):\n",
    "        a += [a[i-1] + a[i-2]]\n",
    "    return a[:n+1]\n",
    "\n",
    "a = F(5)\n",
    "print(a)"
   ]
  },
  {
   "cell_type": "code",
   "execution_count": null,
   "id": "2b2eab7d",
   "metadata": {},
   "outputs": [],
   "source": [
    "#字母加權排序\n",
    "\n",
    "def CharSort(lst):\n",
    "    ### lst 的型態為串列(list)\n",
    "    ### 請在下面開始你的程式\n",
    "    ### 我們建議您先完成你的加權值計算函式 CharSum，並且透過課程中說的 sorted ，運用自訂 key 來客製化排序。\n",
    "    def CharSum(s):\n",
    "    # 加權值計算函式\n",
    "        az = \"abcdefghijklmnopqrstuvwxyz\"\n",
    "        a = 0\n",
    "        s_l = s.lower()\n",
    "        for i in s_l:\n",
    "            a += az.find(i) + 1\n",
    "        return a\n",
    "    for word in lst:\n",
    "        your_ans = sorted(lst, key = CharSum)\n",
    "    return your_ans\n",
    "\n",
    "char = [\"Egg\", \"baNaNa\", \"ccClub\"]\n",
    "print(CharSort(char))"
   ]
  },
  {
   "cell_type": "code",
   "execution_count": null,
   "id": "804c2b8c",
   "metadata": {},
   "outputs": [],
   "source": [
    "l = ['0.1', '+', '0.2', '*', '0.3', '*', '0.4']\n",
    "l = [e for e in l if e not in (l[1:3])]\n",
    "print(l)\n",
    "print(type(list(l[0][1])))"
   ]
  },
  {
   "cell_type": "code",
   "execution_count": null,
   "id": "ca7cd16b",
   "metadata": {},
   "outputs": [],
   "source": [
    "test_list = [\"a\", \"c\", \"d\", \"d\"]\n",
    "for i, ele in enumerate(test_list):\n",
    "    if ele == \"d\":\n",
    "        print(i)\n",
    "        # print(test_list.index(i)) #要印出.index(i)他就只會找第一次出現的index, hmmmmmmmmmm該如何是好\n",
    "\n",
    "for i in range(len(test_list)):\n",
    "    if test_list[i] == \"d\":\n",
    "        print(i)\n",
    "\n",
    "list(np.where(np.char.equal(\"d\", test_list) == True)[0])\n",
    "\n",
    "# np.char.equal([\"a\", \"c\", \"d\", \"d\"], [\"b\", \"a\", \"d\", \"d\"])\n",
    "        \n",
    "# list(np.where(np.char.equal(test_list, \"d\")== True)[0])"
   ]
  },
  {
   "cell_type": "code",
   "execution_count": null,
   "id": "48c95995",
   "metadata": {},
   "outputs": [],
   "source": [
    "my_dict ={\"java\":100, \"python\":112, \"c\":11}\n",
    " \n",
    "# list out keys and values separately\n",
    "key_list = list(my_dict.keys())\n",
    "val_list = list(my_dict.values())\n",
    " \n",
    "# print key with val 100\n",
    "position = val_list.index(100)\n",
    "print(key_list[position])\n",
    " \n",
    "# print key with val 112\n",
    "position = val_list.index(112)\n",
    "print(key_list[position])\n",
    " \n",
    "# one-liner\n",
    "print(list(my_dict.keys())[list(my_dict.values()).index(112)])"
   ]
  },
  {
   "cell_type": "code",
   "execution_count": null,
   "id": "5251140a",
   "metadata": {},
   "outputs": [],
   "source": [
    "# function to return key for any value\n",
    "def get_key(val):\n",
    "    for key, value in my_dict.items():\n",
    "         if val == value:\n",
    "            print(key)\n",
    "\n",
    "    return \"key doesn't exist\"\n",
    "    #raise ValueError(\"can't find Ting-Yu\")\n",
    " \n",
    "\n",
    "my_dict ={\"java\":100, \"python\":112, \"c\":112}\n",
    " \n",
    "print(get_key(112))\n",
    "print(get_key(11))"
   ]
  },
  {
   "cell_type": "code",
   "execution_count": null,
   "id": "b93d40bc",
   "metadata": {
    "scrolled": true
   },
   "outputs": [],
   "source": [
    "#合法括號窮舉\n",
    "\n",
    "def Brackets(n):\n",
    "    ### n 的型態為整數(int)\n",
    "    ### 回傳值 your_ans 的型態為字串(str)\n",
    "    index_list = [i for i in range(2 * n)]\n",
    "    print(\"index_list: {}\".format(index_list))\n",
    "    left_choice = {}\n",
    "    right_choice = []\n",
    "    a = 0\n",
    "    while a <= n:\n",
    "        for i in index_list:\n",
    "            for j in index_list[i:]:\n",
    "                left_choice[]\n",
    "                right_choice.append([a for a in index_list if a not in [0, i , j]])\n",
    "        a += 1\n",
    "        print(left_choice)\n",
    "        print(right_choice)\n",
    "                \n",
    "    #return your_ans\n",
    "\n",
    "n = 1\n",
    "Brackets(n)"
   ]
  },
  {
   "cell_type": "code",
   "execution_count": null,
   "id": "603f1dd0",
   "metadata": {},
   "outputs": [],
   "source": [
    "# n = 2 , 2種\n",
    "# n = 3 , 5種\n",
    "# n = 4 ,14種\n",
    "index_list = [i for i in range(2 * n)]\n",
    "def choose_left(n, index_list):\n",
    "    left_list = []\n",
    "    if n == 1:\n",
    "        left_list = index_list[0]\n",
    "    else:\n",
    "        for i in index_list[1:]:\n",
    "            left_list.append([i])\n",
    "            return choose_left(n - 1, index_list[i:])\n",
    "    print(left_list)\n",
    "        \n",
    "\n",
    "choose_left(2, index_list)"
   ]
  },
  {
   "cell_type": "code",
   "execution_count": null,
   "id": "5bd56c03",
   "metadata": {},
   "outputs": [],
   "source": [
    "def add(A, B, n):\n",
    "    temp_result = [\"\"]\n",
    "    while len(temp_result[-1]) < (2 * n):\n",
    "        for a in A:\n",
    "            for b in B:\n",
    "                temp_result.append(a + b)\n",
    "                temp_result.append(b + a)\n",
    "        A = temp_result\n",
    "    print(temp_result)\n",
    "# if n == 1:\n",
    "#     add([\"(\" for i in range(n)], [\")\" for i in range(n)])\n",
    "    \n",
    "    \n",
    "add([\"(\"], [\")\"], 2)"
   ]
  },
  {
   "cell_type": "code",
   "execution_count": null,
   "id": "a1522467",
   "metadata": {},
   "outputs": [],
   "source": [
    "def insert(inserted, inserting, n)\n",
    "    for a in inserted:\n",
    "        for b in inserting:\n",
    "            \n",
    "\n",
    "inserted = [\"(\" for i in range(n)]\n",
    "inserting = [\")\" for i in range(n)]\n",
    "n = 2\n"
   ]
  },
  {
   "cell_type": "code",
   "execution_count": null,
   "id": "09ed546b",
   "metadata": {},
   "outputs": [],
   "source": [
    "def addChar(strs, chars):\n",
    "    result = []\n",
    "    for str_ in strs:\n",
    "        for char in chars:\n",
    "            result.append(str_ + char)\n",
    "    return result\n",
    "\n",
    "\n",
    "\n",
    "chars = ['a','b','c']\n",
    "\n",
    "group = {}\n",
    "count = len(chars)\n",
    "\n",
    "for i in range(1, count + 1):\n",
    "    if i == 1:\n",
    "        group[i] = addChar([''], chars)\n",
    "    else:\n",
    "        group[i] = addChar(group[i - 1], chars)\n",
    "print(group)\n",
    "\n",
    "# 合并数组\n",
    "result = []\n",
    "for i in group:\n",
    "    result += group[i]\n",
    "\n",
    "# print(result)"
   ]
  },
  {
   "cell_type": "code",
   "execution_count": null,
   "id": "fb5a3886",
   "metadata": {},
   "outputs": [],
   "source": [
    "def Brackets_recursive(n):\n",
    "    \n",
    "    def valid_str(s):\n",
    "        a = 0\n",
    "        for ss in s:\n",
    "            if ss == \"(\":\n",
    "                a += 1\n",
    "            else:\n",
    "                a -= 1\n",
    "            if a < 0:\n",
    "                return False\n",
    "        if a > 0:\n",
    "            return False\n",
    "        return True\n",
    "    \n",
    "    if n == 1:\n",
    "        return \"()\"\n",
    "    else:\n",
    "        n_1_strs = Brackets_recursive(n-1).split('\\n')\n",
    "        valids = []\n",
    "        for n_1_str in n_1_strs:\n",
    "            for i in range(len(n_1_str)):\n",
    "                for j in reversed(range(i, len(n_1_str))):\n",
    "                    n_str = n_1_str[:i] + \"(\" + n_1_str[i:j] + \")\" + n_1_str[j:]\n",
    "                    if valid_str(n_str) and n_str not in valids:\n",
    "                        valids += [n_str]\n",
    "    \n",
    "    # print(len(valids))\n",
    "    \n",
    "    return \"\\n\".join(valids)+\"\\n\"\n",
    "\n",
    "Brackets_recursive(2)"
   ]
  },
  {
   "cell_type": "code",
   "execution_count": 13,
   "id": "3970d333",
   "metadata": {},
   "outputs": [
    {
     "name": "stdout",
     "output_type": "stream",
     "text": [
      "14\n"
     ]
    },
    {
     "data": {
      "text/plain": [
       "'(((())))\\n((()()))\\n((())())\\n((()))()\\n(()(()))\\n(()()())\\n(()())()\\n(())(())\\n(())()()\\n()((()))\\n()(()())\\n()(())()\\n()()(())\\n()()()()\\n'"
      ]
     },
     "execution_count": 13,
     "metadata": {},
     "output_type": "execute_result"
    }
   ],
   "source": [
    "def Brackets_sun(n):\n",
    "    \n",
    "    def valid_str(s):\n",
    "        a = 0\n",
    "        for ss in s:\n",
    "            if ss == \"(\":\n",
    "                a += 1\n",
    "            else:\n",
    "                a -= 1\n",
    "            if a < 0:\n",
    "                return False\n",
    "        if a > 0:\n",
    "            return False\n",
    "        return True\n",
    "    \n",
    "    def n_length_combo(lst, n):\n",
    "        if n == 0:\n",
    "            return [[]]\n",
    "        l =[]\n",
    "        for i in range(0, len(lst)):\n",
    "            m = lst[i]\n",
    "            remLst = lst[i + 1:]\n",
    "            for p in n_length_combo(remLst, n-1):\n",
    "                l.append([m]+p)\n",
    "        return l\n",
    "\n",
    "    idx_list = list(range(1, 2*n+1))\n",
    "    idx_list_left = n_length_combo([x for x in idx_list], n)\n",
    "    \n",
    "    valids = []\n",
    "    for idx in idx_list_left:\n",
    "        n_str = \")\"*2*n\n",
    "        for i in idx:\n",
    "            # print(n_str)\n",
    "            n_str = \"\".join([n_str[:i-1], \"(\", n_str[i:]])\n",
    "        if valid_str(n_str):\n",
    "            valids += [n_str]\n",
    "    \n",
    "    print(len(valids))\n",
    "    \n",
    "    return \"\\n\".join(valids) + \"\\n\"\n",
    "# import time\n",
    "# start = time.time()\n",
    "Brackets_sun(4)\n",
    "# end = time.time()\n",
    "# print(\"time: {}\".format(end-start))\n"
   ]
  },
  {
   "cell_type": "code",
   "execution_count": null,
   "id": "6249293f",
   "metadata": {},
   "outputs": [],
   "source": [
    "def Brackets(n):\n",
    "    \n",
    "    def valid_str(s):\n",
    "        a = 0\n",
    "        for ss in s:\n",
    "            if ss == \"(\":\n",
    "                a += 1\n",
    "            else:\n",
    "                a -= 1\n",
    "            if a < 0:\n",
    "                return False\n",
    "        if a > 0:\n",
    "            return False\n",
    "        return True\n",
    "    \n",
    "    def n_length_combo(lst, n):\n",
    "        if n == 0:\n",
    "            return [[]]\n",
    "        l =[]\n",
    "        for i in range(0, len(lst)):\n",
    "            m = lst[i]\n",
    "            remLst = lst[i + 1:]\n",
    "            for p in n_length_combo(remLst, n-1):\n",
    "                l.append([m]+p)\n",
    "        return l\n",
    "\n",
    "    idx_list = list(range(1, 2*n+1))\n",
    "    idx_list_left = n_length_combo([x for x in idx_list], n)\n",
    "    \n",
    "    valids = []\n",
    "    for idx in idx_list_left:\n",
    "        n_str = \")\"*2*n\n",
    "        for i in idx:\n",
    "            # print(n_str)\n",
    "            n_str = \"\".join([n_str[:i-1], \"(\", n_str[i:]])\n",
    "        if valid_str(n_str):\n",
    "            valids += [n_str]\n",
    "    \n",
    "    print(len(valids))\n",
    "    \n",
    "    return \"\\n\".join(valids) + \"\\n\"\n",
    "# import time\n",
    "# start = time.time()\n",
    "Brackets(2)\n",
    "# end = time.time()\n",
    "# print(\"time: {}\".format(end-start))\n"
   ]
  },
  {
   "cell_type": "code",
   "execution_count": 7,
   "id": "b3363f03",
   "metadata": {},
   "outputs": [
    {
     "name": "stdout",
     "output_type": "stream",
     "text": [
      "2\n",
      "5\n"
     ]
    },
    {
     "data": {
      "text/plain": [
       "'((()))\\n(()())\\n()(())\\n(())()\\n()()()\\n'"
      ]
     },
     "execution_count": 7,
     "metadata": {},
     "output_type": "execute_result"
    }
   ],
   "source": [
    "def bra(n):\n",
    "    \n",
    "    def valid(s):\n",
    "        a = 0\n",
    "        for i in list(s):\n",
    "            if i == \"(\":\n",
    "                a += 1\n",
    "            else:\n",
    "                a -= 1\n",
    "            if a < 0:\n",
    "                return False\n",
    "        if not a == 0:\n",
    "            return False\n",
    "        return True\n",
    "    \n",
    "    if n == 1:\n",
    "        return \"()\\n\"\n",
    "    else:\n",
    "        # bra(n-1)\n",
    "        bra_samples = bra(n - 1).split(\"\\n\")\n",
    "        \n",
    "        # bra(n)\n",
    "        solutions = []\n",
    "        for sample in bra_samples[:-1]:\n",
    "            # ((())) -> insert ( and )\n",
    "            \n",
    "            for i in range(len(sample)+1):\n",
    "                for j in reversed(range(i, len(sample)+1)):\n",
    "                    # insert ( at i\n",
    "                    # insert ) at j\n",
    "                    new_sample = sample[:i] + \"(\" + sample[i:j] + \")\" + sample[j:]\n",
    "                    # print(\"old sample: {}, new samlpe: {}, ({}, {})\".format(sample, new_sample, i, j))\n",
    "                    \n",
    "                    if valid(new_sample) and new_sample not in solutions:\n",
    "                        solutions.append(new_sample)\n",
    "        print(len(solutions))\n",
    "        return \"\\n\".join(solutions) + \"\\n\"\n",
    "#             sample_split = list(sample)\n",
    "#             for sam in sample_split:\n",
    "#                 new_sample = \"\"\n",
    "#                 new_sample += \"()\" + sam\n",
    "#                 bra_samples.append(new_sample)\n",
    "#                 new_sample = \"\"\n",
    "#                 new_sample += \"(\" + sam + \")\"\n",
    "#                 bra_samples.append(new_sample)\n",
    "#         return bra(n-1)\n",
    "bra(3)"
   ]
  },
  {
   "cell_type": "code",
   "execution_count": 107,
   "id": "f0aaa150",
   "metadata": {},
   "outputs": [
    {
     "name": "stdout",
     "output_type": "stream",
     "text": [
      "4862\n",
      "runtime: 9.68662190s\n"
     ]
    }
   ],
   "source": [
    "def valid(s):\n",
    "    a = 0\n",
    "    for i in list(s):\n",
    "        if i == \"(\":\n",
    "            a += 1\n",
    "        else:\n",
    "            a -= 1\n",
    "        if a < 0:\n",
    "            return False\n",
    "    if not a == 0:\n",
    "        return False\n",
    "    return True\n",
    "\n",
    "def B(n):\n",
    "    if n == 1:\n",
    "        return \"()\\n\"\n",
    "    valid_samples = B(n-1).strip().split(\"\\n\")\n",
    "    new_valid_samples = []\n",
    "    for sample in valid_samples:\n",
    "        # print(sample)\n",
    "        for i in range(len(sample)):\n",
    "            for j in reversed(range(i, len(sample))):                \n",
    "                new_sample = sample[:i] + \"(\" + sample[i:j] + \")\" + sample[j:]\n",
    "                #print(\"i, j: {}, {} new_sample: {}\".format(i, j, new_sample))\n",
    "                if valid(new_sample) and (not new_sample in new_valid_samples):\n",
    "                    new_valid_samples += [new_sample]\n",
    "    ab = []\n",
    "    for a in new_valid_samples:\n",
    "        ab += [a.replace(\"(\", \"a\").replace(\")\", \"b\")]\n",
    "#     new_valid_samples = sorted(new_valid_samples)\n",
    "    # print(ab)\n",
    "    return \"\\n\".join(new_valid_samples) + \"\\n\"\n",
    "\n",
    "\n",
    "import time\n",
    "start = time.time()\n",
    "print(len(B(9).split('\\n'))-1)\n",
    "end = time.time()\n",
    "print(\"runtime: {:.8f}s\".format(end-start))"
   ]
  },
  {
   "cell_type": "code",
   "execution_count": 56,
   "id": "99521e65",
   "metadata": {},
   "outputs": [
    {
     "data": {
      "text/plain": [
       "['12', '13', '14', '23', '24', '34']"
      ]
     },
     "execution_count": 56,
     "metadata": {},
     "output_type": "execute_result"
    }
   ],
   "source": [
    "def combos(l, n):\n",
    "    def reverse(a):\n",
    "        return a[::-1]\n",
    "    def sortcha(a):\n",
    "        return \"\".join(sorted(a))\n",
    "    if n == 1:\n",
    "        return l\n",
    "    last_choices = combos(l, n-1)\n",
    "    new_choices = []\n",
    "    for i in range(len(last_choices)):\n",
    "        for a in l:\n",
    "            choice = last_choices[i] + a           \n",
    "            if (choice not in new_choices) and (reverse(choice) not in new_choices) and all(\n",
    "                    [choice.count(j)<=1 for j in l]) and (sortcha(choice) not in new_choices):\n",
    "                new_choices.append(choice)\n",
    "            \n",
    "    return new_choices\n",
    "\n",
    "# combos([\"a\", \"b\", \"c\", \"d\"], 4)\n",
    "combos([str(s) for s in list(range(1, 5))], 2)\n",
    "# -> [ab, ac, ad, bc, bd, cd]"
   ]
  },
  {
   "cell_type": "code",
   "execution_count": 6,
   "id": "2719d2dd",
   "metadata": {},
   "outputs": [
    {
     "name": "stdout",
     "output_type": "stream",
     "text": [
      "runtime: 0.91393828s\n"
     ]
    }
   ],
   "source": [
    "def Combos(l, n):\n",
    "    if n == 0:\n",
    "        return [[]]\n",
    "    c = []\n",
    "    for i in range(len(l)):\n",
    "        c += [[l[i]]+a for a in Combos(l[i+1:], n-1)]\n",
    "    return c\n",
    "\n",
    "def combos(l, n):\n",
    "    if not isinstance(l[0], str):\n",
    "        l = [str(ll) for ll in l]    \n",
    "    def reverse(a):\n",
    "        return a[::-1]\n",
    "    def sortcha(a):\n",
    "        return \"\".join(sorted(a))\n",
    "    if n == 1:\n",
    "        return l\n",
    "    last_choices = combos(l, n-1)\n",
    "    new_choices = []\n",
    "    for i in range(len(last_choices)):\n",
    "        for a in l:\n",
    "            choice = last_choices[i] + a           \n",
    "            if (choice not in new_choices) and (reverse(choice) not in new_choices) and all(\n",
    "                    [choice.count(j)<=1 for j in l]) and (sortcha(choice) not in new_choices):\n",
    "                new_choices.append(choice)\n",
    "            \n",
    "    return new_choices\n",
    "\n",
    "num_list = list(range(1, 20))\n",
    "n = 10\n",
    "import time\n",
    "\n",
    "\"\"\"\n",
    "start = time.time()\n",
    "combos(num_list, n)\n",
    "end = time.time()\n",
    "print(\"runtime: {:.8f}s\".format(end-start))\n",
    "\"\"\"\n",
    "start = time.time()\n",
    "Combos(num_list, n)\n",
    "end = time.time()\n",
    "print(\"runtime: {:.8f}s\".format(end-start))"
   ]
  },
  {
   "cell_type": "code",
   "execution_count": 114,
   "id": "a00734bb",
   "metadata": {},
   "outputs": [
    {
     "name": "stdout",
     "output_type": "stream",
     "text": [
      "(((())))\n",
      "((()()))\n",
      "((())())\n",
      "((()))()\n",
      "(()(()))\n",
      "(()()())\n",
      "(()())()\n",
      "(())(())\n",
      "(())()()\n",
      "()((()))\n",
      "()(()())\n",
      "()(())()\n",
      "()()(())\n",
      "()()()()\n",
      "\n",
      "runtime: 0.00069714s\n"
     ]
    }
   ],
   "source": [
    "def brackets_omg(n):\n",
    "    \n",
    "    num_list = [i+1 for i in range(2 * n-1)]\n",
    "    \n",
    "    def Combos(l, n):\n",
    "        if n == 0:\n",
    "            return [[]]\n",
    "        c = []\n",
    "        for i in range(len(l)):\n",
    "            c += [[l[i]]+a for a in Combos(l[i+1:], n-1)]\n",
    "        return c\n",
    "    \n",
    "    def combos(l, n):\n",
    "        if not isinstance(l[0], str):\n",
    "            l = [str(ll) for ll in l]\n",
    "        def reverse(a):\n",
    "            return a[::-1]\n",
    "        def sortcha(a):\n",
    "            return \"\".join(sorted(a))\n",
    "        if n == 1:\n",
    "            return l\n",
    "        last_choices = combos(l, n-1)\n",
    "        new_choices = []\n",
    "        for i in range(len(last_choices)):\n",
    "            for a in l:\n",
    "                choice = last_choices[i] + a           \n",
    "                if (choice not in new_choices) and (reverse(choice) not in new_choices) and all(\n",
    "                        [choice.count(j)<=1 for j in l]) and (sortcha(choice) not in new_choices):\n",
    "                    new_choices.append(choice)\n",
    "        return new_choices    \n",
    "    \n",
    "    def valid(s):\n",
    "        a = 0\n",
    "        for i in list(s):\n",
    "            if i == \"(\":\n",
    "                a += 1\n",
    "            else:\n",
    "                a -= 1\n",
    "            if a < 0:\n",
    "                return False\n",
    "        if not a == 0:\n",
    "            return False\n",
    "        return True\n",
    "    \n",
    "    brackets = []\n",
    "\n",
    "    left_choices = Combos(num_list, n-1)\n",
    "#     left_choices = combos(num_list, n-1)    \n",
    "    for choice in left_choices:\n",
    "        bracket = [\")\" for a in range(2 * n)]\n",
    "        bracket[0] = \"(\"\n",
    "        for j in choice:\n",
    "            bracket[j] = \"(\"\n",
    "            if valid(bracket):\n",
    "                brackets.append(\"\".join(bracket))\n",
    "\n",
    "    return \"\\n\".join(brackets) + \"\\n\"\n",
    "\n",
    "import time\n",
    "start = time.time()\n",
    "print(brackets_omg(4))\n",
    "end = time.time()\n",
    "print(\"runtime: {:.8f}s\".format(end-start))"
   ]
  }
 ],
 "metadata": {
  "kernelspec": {
   "display_name": "Python 3 (ipykernel)",
   "language": "python",
   "name": "python3"
  },
  "language_info": {
   "codemirror_mode": {
    "name": "ipython",
    "version": 3
   },
   "file_extension": ".py",
   "mimetype": "text/x-python",
   "name": "python",
   "nbconvert_exporter": "python",
   "pygments_lexer": "ipython3",
   "version": "3.9.13"
  }
 },
 "nbformat": 4,
 "nbformat_minor": 5
}
